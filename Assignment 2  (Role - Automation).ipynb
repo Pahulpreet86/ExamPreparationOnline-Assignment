{
 "cells": [
  {
   "cell_type": "code",
   "execution_count": 1,
   "metadata": {},
   "outputs": [],
   "source": [
    "from bs4 import BeautifulSoup #web scrapping\n",
    "import requests\n",
    "from textblob import TextBlob #sentiment analysis"
   ]
  },
  {
   "cell_type": "code",
   "execution_count": 2,
   "metadata": {},
   "outputs": [],
   "source": [
    "query = \"https://in.finance.yahoo.com/quote/005930.KS?p=005930.KS\" #Samsung Electronics Co., Ltd. (005930.KS) yahoo finance site\n",
    "response = requests.get(query)\n",
    "soup = BeautifulSoup(response.text, \"html.parser\")"
   ]
  },
  {
   "cell_type": "code",
   "execution_count": 3,
   "metadata": {},
   "outputs": [],
   "source": [
    "Headlines=[] #will hold all the headlines on the Samsung yahoo finance site\n",
    "for headlines in soup.find_all(\"h3\"):\n",
    "    Headlines.append(headlines.text.strip())"
   ]
  },
  {
   "cell_type": "code",
   "execution_count": 4,
   "metadata": {},
   "outputs": [
    {
     "name": "stdout",
     "output_type": "stream",
     "text": [
      "[u'Samsung Galaxy S9 Plus Camera: How It Beats The iPhone X', u\"Samsung's New Galaxy X Has Been Hiding In Plain Sight\", u\"Android Circuit: Galaxy S9 Versus iPhone X, Samsung Confirms S9 Release Date, Nokia's Love Affair\", u'Samsung Has One Clear Advantage Over Apple', u\"Samsung's Galaxy S9 Has A Great Secret Feature\"]\n"
     ]
    }
   ],
   "source": [
    "print(Headlines[0:5])#print top 5 news"
   ]
  },
  {
   "cell_type": "code",
   "execution_count": 5,
   "metadata": {},
   "outputs": [],
   "source": [
    "#selecting the headlines related to samsung\n",
    "samsung_headline=[]\n",
    "for i in range(0,len(Headlines)):\n",
    "    samsung = TextBlob(Headlines[i])\n",
    "    for j in range (0,len(samsung.words)):\n",
    "        if samsung.words[j] == 'Samsung':\n",
    "            samsung_headline.append(Headlines[i])\n",
    "            break"
   ]
  },
  {
   "cell_type": "code",
   "execution_count": 6,
   "metadata": {},
   "outputs": [
    {
     "name": "stdout",
     "output_type": "stream",
     "text": [
      "overal sentiment =  0.0279987373737\n"
     ]
    }
   ],
   "source": [
    "#calculating overall sentiment (polarity ) of the company news\n",
    "polar_sum=0\n",
    "for k in range(0,len(samsung_headline)):\n",
    "    samsun_polar=TextBlob(samsung_headline[k])\n",
    "    polar_sum=polar_sum + samsun_polar.sentiment.polarity\n",
    "    \n",
    "print \"overal sentiment = \", (polar_sum/len(samsung_headline))"
   ]
  }
 ],
 "metadata": {
  "kernelspec": {
   "display_name": "Python 2",
   "language": "python",
   "name": "python2"
  },
  "language_info": {
   "codemirror_mode": {
    "name": "ipython",
    "version": 2
   },
   "file_extension": ".py",
   "mimetype": "text/x-python",
   "name": "python",
   "nbconvert_exporter": "python",
   "pygments_lexer": "ipython2",
   "version": "2.7.12"
  }
 },
 "nbformat": 4,
 "nbformat_minor": 2
}
