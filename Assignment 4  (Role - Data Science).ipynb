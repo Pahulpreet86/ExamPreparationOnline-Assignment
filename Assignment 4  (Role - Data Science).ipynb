{
 "cells": [
  {
   "cell_type": "code",
   "execution_count": 1,
   "metadata": {},
   "outputs": [],
   "source": [
    "import pandas as pd\n",
    "import matplotlib.pyplot as plt\n",
    "import PyPDF2\n",
    "from nltk.tokenize import word_tokenize\n",
    "from nltk.corpus import stopwords\n",
    "\n",
    "pdf = open(\"JavaBasics-notes.pdf\",'rb')\n",
    "pdf_read = PyPDF2.PdfFileReader(pdf)"
   ]
  },
  {
   "cell_type": "code",
   "execution_count": 2,
   "metadata": {},
   "outputs": [],
   "source": [
    "no_of_page = pdf_read.numPages\n",
    "count = 0\n",
    "text = \"\"\n",
    "\n",
    "while count < no_of_page:\n",
    "    page = pdf_read.getPage(count)\n",
    "    count +=1\n",
    "    text += page.extractText()"
   ]
  },
  {
   "cell_type": "code",
   "execution_count": 3,
   "metadata": {},
   "outputs": [
    {
     "data": {
      "text/plain": [
       "4952"
      ]
     },
     "execution_count": 3,
     "metadata": {},
     "output_type": "execute_result"
    }
   ],
   "source": [
    "tokens = word_tokenize(text.lower())\n",
    "stop_word = stopwords.words('english')\n",
    "punctuations = ['(',')',';',':','[',']',',',\"!\",\".\",\"``\",\"}\",\"{\",'``',\"-\",\"$\",\"<\",\">\",':',':',':',\"/\",\"\\\\\",\"+\",\"[\",\"]\",\".\",\"=\",\"==\",\"&\",\"$\",'||','{',\n",
    "'|','}',\"''\"]\n",
    "len(tokens)"
   ]
  },
  {
   "cell_type": "code",
   "execution_count": 8,
   "metadata": {},
   "outputs": [
    {
     "data": {
      "text/plain": [
       "2262"
      ]
     },
     "execution_count": 8,
     "metadata": {},
     "output_type": "execute_result"
    }
   ],
   "source": [
    "for word in tokens:\n",
    "    for stop in stop_word:\n",
    "        if word==stop_word: #remove stop word\n",
    "            tokens.remove(word)\n",
    "        \n",
    "    for symbol in punctuations:#remove punctuation\n",
    "        if word==symbol: #remove stop word\n",
    "            tokens.remove(word)\n",
    "        \n",
    "\n",
    "for word in tokens:#remove words with less words (overwiew shows all are punctuations with arbitaration)\n",
    "    if len(word) <= 3:\n",
    "        tokens.remove(word)\n",
    "len(tokens)        "
   ]
  },
  {
   "cell_type": "code",
   "execution_count": 12,
   "metadata": {},
   "outputs": [
    {
     "data": {
      "text/plain": [
       "1970"
      ]
     },
     "execution_count": 12,
     "metadata": {},
     "output_type": "execute_result"
    }
   ],
   "source": [
    "for word in tokens:\n",
    "    for symbol in punctuations:\n",
    "        if word.find(symbol)>-1:\n",
    "            try:\n",
    "                tokens.remove(word)\n",
    "            except:\n",
    "                pass\n",
    "len(tokens)"
   ]
  },
  {
   "cell_type": "code",
   "execution_count": 16,
   "metadata": {},
   "outputs": [
    {
     "data": {
      "text/plain": [
       "1944"
      ]
     },
     "execution_count": 16,
     "metadata": {},
     "output_type": "execute_result"
    }
   ],
   "source": [
    "numbers=[\"0\",\"1\",\"2\",\"3\",\"4\",\"5\",\"6\",\"7\",\"8\",\"9\"]\n",
    "for word in tokens:\n",
    "    for number in numbers:\n",
    "        if word.find(number)>-1:\n",
    "            try:\n",
    "                tokens.remove(word)\n",
    "            except:\n",
    "                pass\n",
    "len(tokens)"
   ]
  },
  {
   "cell_type": "code",
   "execution_count": 17,
   "metadata": {},
   "outputs": [],
   "source": [
    "dictionary={}\n",
    "for word in tokens:\n",
    "    if word in dictionary:\n",
    "        dictionary[word]+=1\n",
    "    else:\n",
    "        dictionary[word]=1\n",
    "        \n",
    "#again filtering the dictionaory\n",
    "for word in stop_word:\n",
    "    if word in dictionary:\n",
    "        dictionary.pop(word)"
   ]
  },
  {
   "cell_type": "code",
   "execution_count": 19,
   "metadata": {},
   "outputs": [],
   "source": [
    "result_keyword_csv=pd.DataFrame(sorted(dictionary.items(), key=lambda kv: kv[1], reverse=True))\n",
    "result_keyword_csv=result_keyword_csv.to_csv(\"result_keyword_list.csv\",encoding=\"utf-8\",header=[\"Keyword\",\"Frequency\"],index=False)"
   ]
  },
  {
   "cell_type": "code",
   "execution_count": 23,
   "metadata": {},
   "outputs": [],
   "source": [
    "#visualization of the keyword\n",
    "dataframe=pd.read_csv(\"result_keyword_list.csv\")\n",
    "dataframe=dataframe[0:5] #top 5 key words\n"
   ]
  },
  {
   "cell_type": "code",
   "execution_count": 24,
   "metadata": {},
   "outputs": [
    {
     "data": {
      "image/png": "[encoded data removed]",
      "text/plain": [
       "<matplotlib.figure.Figure at 0x7fccee1114d0>"
      ]
     },
     "metadata": {},
     "output_type": "display_data"
    }
   ],
   "source": [
    "# Plot the figure.\n",
    "fig, ax = plt.subplots()\n",
    "ax.bar(dataframe[\"Keyword\"],dataframe[\"Frequency\"],color='gray',alpha=0.75)\n",
    "plt.xlabel(\"Words\")\n",
    "plt.ylabel(\"Frequency\")\n",
    "plt.title(\"Keyword Analysis\")\n",
    "plt.yticks([10,20,30,40,50,60,40,60,70,80,90,100])\n",
    "plt.xticks(dataframe[\"Keyword\"])\n",
    "\n",
    "rects = ax.patches\n",
    "\n",
    "# Make some labels.\n",
    "labels = [\"%0.2f\" % i for i in dataframe[\"Frequency\"]]\n",
    "\n",
    "for rect, label in zip(rects, labels):\n",
    "    height = rect.get_height()\n",
    "    ax.text(rect.get_x() + rect.get_width() / 2, height, label,\n",
    "            ha='center', va='bottom')\n",
    "plt.savefig(\"Results.png\",dpi=300)\n",
    "plt.show()\n"
   ]
  }
 ],
 "metadata": {
  "kernelspec": {
   "display_name": "Python 2",
   "language": "python",
   "name": "python2"
  },
  "language_info": {
   "codemirror_mode": {
    "name": "ipython",
    "version": 2
   },
   "file_extension": ".py",
   "mimetype": "text/x-python",
   "name": "python",
   "nbconvert_exporter": "python",
   "pygments_lexer": "ipython2",
   "version": "2.7.12"
  }
 },
 "nbformat": 4,
 "nbformat_minor": 2
}
